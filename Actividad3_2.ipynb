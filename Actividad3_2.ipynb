{
  "nbformat": 4,
  "nbformat_minor": 0,
  "metadata": {
    "colab": {
      "provenance": [],
      "authorship_tag": "ABX9TyMkqYPPjHnUb3LO+Z5D8mBo",
      "include_colab_link": true
    },
    "kernelspec": {
      "name": "python3",
      "display_name": "Python 3"
    },
    "language_info": {
      "name": "python"
    }
  },
  "cells": [
    {
      "cell_type": "markdown",
      "metadata": {
        "id": "view-in-github",
        "colab_type": "text"
      },
      "source": [
        "<a href=\"https://colab.research.google.com/github/MaferLedmar/Actividad3_Valores-Atipicos/blob/main/Actividad3_2.ipynb\" target=\"_parent\"><img src=\"https://colab.research.google.com/assets/colab-badge.svg\" alt=\"Open In Colab\"/></a>"
      ]
    },
    {
      "cell_type": "markdown",
      "source": [
        "# Valores atípicos por dataframe"
      ],
      "metadata": {
        "id": "z8Fyx9D7ArP_"
      }
    },
    {
      "cell_type": "code",
      "execution_count": 1,
      "metadata": {
        "id": "YH5e2WN5_pOd"
      },
      "outputs": [],
      "source": [
        "import pandas as pd\n",
        "import numpy as np\n",
        "import matplotlib.pyplot as plt"
      ]
    },
    {
      "cell_type": "code",
      "source": [
        "#cargar archivo csv\n",
        "from google.colab import files\n",
        "files.upload()"
      ],
      "metadata": {
        "id": "1R34yWs8AyA2"
      },
      "execution_count": null,
      "outputs": []
    },
    {
      "cell_type": "markdown",
      "source": [
        "## **2020**"
      ],
      "metadata": {
        "id": "Qlvh3mD_GMDC"
      }
    },
    {
      "cell_type": "code",
      "source": [
        "#Leer el archivo como 1 DF por cada hoja (4)\n",
        "DF_2020 = pd.read_excel(\"Gastos y costos 20-23.xlsx\", sheet_name=\"2020\", skiprows=5)"
      ],
      "metadata": {
        "id": "_WcGN87iA5N5"
      },
      "execution_count": null,
      "outputs": []
    },
    {
      "cell_type": "code",
      "source": [
        "pd.DataFrame(DF_2020).head(2)"
      ],
      "metadata": {
        "id": "AIfNt2c9AV8n"
      },
      "execution_count": null,
      "outputs": []
    },
    {
      "cell_type": "markdown",
      "source": [
        "#### Corroboramos valores nulos"
      ],
      "metadata": {
        "id": "e9q2zkxcGHop"
      }
    },
    {
      "cell_type": "code",
      "source": [
        "print(DF_2020.info())\n",
        "DF_2020.isnull().sum()"
      ],
      "metadata": {
        "id": "IIC4p6C4DRjE"
      },
      "execution_count": null,
      "outputs": []
    },
    {
      "cell_type": "code",
      "source": [
        "#reemplazamos valores nulos\n",
        "df1_2020 = DF_2020.copy()\n",
        "\n",
        "# FOLIO\n",
        "df1_2020['FOLIO'] = df1_2020['FOLIO'].fillna(\"Desconocido\")\n",
        "# GASTO\n",
        "df1_2020['GASTO'] = df1_2020['GASTO'].fillna(\"Desconocido\")\n",
        "# TC\n",
        "df1_2020['TC'] = df1_2020['TC'].fillna(1)\n",
        "# IMPORTE\n",
        "df1_2020['IMPORTE'] = df1_2020['IMPORTE'].fillna(round(df1_2020['IMPORTE'].median(),1))\n",
        "# IVA\n",
        "df1_2020['IVA'] = df1_2020['IVA'].fillna(round(df1_2020['IVA'].median(),1))\n",
        "# TIPO\n",
        "df1_2020['TIPO'] = df1_2020['TIPO'].fillna(method='ffill')\n",
        "# POLIZA\n",
        "df1_2020['POLIZA'] = df1_2020['POLIZA'].fillna(\"Desconocido\")"
      ],
      "metadata": {
        "id": "debffC0ADRgk"
      },
      "execution_count": 38,
      "outputs": []
    },
    {
      "cell_type": "code",
      "source": [
        "valores_nulos = df1_2020.isnull().sum()\n",
        "valores_nulos"
      ],
      "metadata": {
        "id": "NragJDtfDRZR"
      },
      "execution_count": null,
      "outputs": []
    },
    {
      "cell_type": "markdown",
      "source": [
        "#### Outliers"
      ],
      "metadata": {
        "id": "tlL4eUu7KlLC"
      }
    },
    {
      "cell_type": "code",
      "source": [
        "#separamos las variables cuantitativas para trabajar outliers\n",
        "cuanti_2020 = df1_2020[[\"Columna1\", \"IMPORTE\", \"TC\", \"IVA\", \"RET ISR\", \"RET IVA\", \"TOTAL MX\", \"TOTAL SAT\"]]\n",
        "cuali_2020 = df1_2020[[\"FECHA\", \"FOLIO\", \"UUID\", \"RFC\", \"PROVEEDOR\", \"TIPO GASTO\",\"GASTO\",\"DESCRIPCION\",\"TIPO\",\"STATUS\",\"POLIZA\"]]\n",
        "cuanti_2020.head()"
      ],
      "metadata": {
        "id": "cxibWpJ8DRPY"
      },
      "execution_count": null,
      "outputs": []
    },
    {
      "cell_type": "code",
      "source": [
        "#Diagrama de caja y bigote\n",
        "fig=plt.figure(figsize=(15,8))\n",
        "cuanti_2020.plot(kind='box', vert=False)\n",
        "plt.title(\"Outliers del 2020\")\n",
        "plt.show()"
      ],
      "metadata": {
        "id": "YnR3A944DRTz"
      },
      "execution_count": null,
      "outputs": []
    },
    {
      "cell_type": "code",
      "source": [
        "#Método aplicando Cuartiles. Encuentro cuartiles 0.25 y 0.75\n",
        "y = cuanti_2020\n",
        "\n",
        "percentile25 = y.quantile(0.25) #Q1\n",
        "percentile75 = y.quantile(0.75) #Q3\n",
        "iqr = percentile75 - percentile25\n",
        "\n",
        "Limite_Superior_iqr = percentile75 + 1.5*iqr\n",
        "Limite_Inferior_iqr = percentile25 - 1.5*iqr\n",
        "print(\"Limire superior permitido\", Limite_Superior_iqr)\n",
        "print(\"Limire inferior permitido\", Limite_Inferior_iqr)"
      ],
      "metadata": {
        "id": "vj2vB7EmDRNi"
      },
      "execution_count": null,
      "outputs": []
    },
    {
      "cell_type": "code",
      "source": [
        "#Encontramos Outliers del Dataframe\n",
        "outliers2020_iqr= cuanti_2020[(y>Limite_Superior_iqr)|(y<Limite_Inferior_iqr)]\n",
        "outliers2020_iqr"
      ],
      "metadata": {
        "id": "Y3iZI7LWOVQg"
      },
      "execution_count": null,
      "outputs": []
    },
    {
      "cell_type": "code",
      "source": [
        "#Obtenemos datos limpios del Dataframe\n",
        "data2020_iqr= cuanti_2020[(y<=Limite_Superior_iqr)&(y>=Limite_Inferior_iqr)]\n",
        "data2020_iqr"
      ],
      "metadata": {
        "id": "NWH4tYOm5_T_"
      },
      "execution_count": null,
      "outputs": []
    },
    {
      "cell_type": "code",
      "source": [
        "#Corroboramos valores nulos\n",
        "valores_nulos=data2020_iqr.isnull().sum()\n",
        "valores_nulos"
      ],
      "metadata": {
        "id": "XZMpF_22OeYy"
      },
      "execution_count": null,
      "outputs": []
    },
    {
      "cell_type": "code",
      "source": [
        "#Reemplazamos valores atípicos (nulos) del dataframe con \"mean\"\n",
        "#Realizamos una copia del dataframe\n",
        "cuanti2_20 =data2020_iqr.copy()\n",
        "\n",
        "cuanti2_20 = cuanti2_20.fillna(round(cuanti2_20.mean(),1))\n",
        "cuanti2_20"
      ],
      "metadata": {
        "id": "83WtmvSDOVKr"
      },
      "execution_count": null,
      "outputs": []
    },
    {
      "cell_type": "code",
      "source": [
        "#Corroboramos valores nulos\n",
        "valores_nulos=cuanti2_20.isnull().sum()\n",
        "valores_nulos"
      ],
      "metadata": {
        "id": "SvjvVARi8u01"
      },
      "execution_count": null,
      "outputs": []
    },
    {
      "cell_type": "code",
      "source": [
        "#CORROBORAMOS OUTLIERS DE NUEVO\n",
        "fig=plt.figure(figsize=(15,8))\n",
        "cuanti2_20.plot(kind='box', vert=False)\n",
        "plt.title(\"Outliers del 2020\")\n",
        "plt.show()\n",
        "#si cambia"
      ],
      "metadata": {
        "id": "S2Qytzwf8uxz"
      },
      "execution_count": null,
      "outputs": []
    },
    {
      "cell_type": "code",
      "source": [
        "#unimos la columna FECHA y las columnas cuantitativas y cualitativas en uno solo\n",
        "datos2020_final = pd.concat([cuanti2_20, cuali_2020], axis=1)\n",
        "datos2020_final"
      ],
      "metadata": {
        "id": "kOaCDOSjALrz"
      },
      "execution_count": null,
      "outputs": []
    },
    {
      "cell_type": "code",
      "source": [
        "#Convertir DataFrame a CSV\n",
        "datos2020_final.to_csv(\"Datos_limpios_2020.csv\")"
      ],
      "metadata": {
        "id": "qKf_Lxs1BZDs"
      },
      "execution_count": 73,
      "outputs": []
    },
    {
      "cell_type": "markdown",
      "source": [
        "## 2021"
      ],
      "metadata": {
        "id": "b3tUz2cZ_b3d"
      }
    },
    {
      "cell_type": "code",
      "source": [
        "DF_2021 = pd.read_excel(\"Gastos y costos 20-23.xlsx\", sheet_name=\"2021\", skiprows=3)\n",
        "pd.DataFrame(DF_2021).head(2)"
      ],
      "metadata": {
        "id": "kPrOX-O_8uvU"
      },
      "execution_count": null,
      "outputs": []
    },
    {
      "cell_type": "code",
      "source": [
        "#comprobamos valores nulos\n",
        "print(DF_2021.info())\n",
        "DF_2021.isnull().sum()"
      ],
      "metadata": {
        "id": "SxNQDd7B8upK"
      },
      "execution_count": null,
      "outputs": []
    },
    {
      "cell_type": "code",
      "source": [
        "# sustituimos los valores perdidos\n",
        "df1_2021 = DF_2021.copy()\n",
        "\n",
        "df1_2021['FOLIO'] = df1_2021['FOLIO'].fillna(\"Desconocido\")\n",
        "df1_2021['MP'] = df1_2021['MP'].fillna(\"Desconocido\")\n",
        "df1_2021['POLIZA'] = df1_2021['POLIZA'].fillna(\"Desconocido\")\n",
        "\n",
        "#COMPROBAMOS\n",
        "print(\"total nulos:\", df1_2021.isnull().sum().sum())"
      ],
      "metadata": {
        "colab": {
          "base_uri": "https://localhost:8080/"
        },
        "id": "mEIhyxO5CC3J",
        "outputId": "53af9af3-651d-48c9-c4b1-9d35adfe9d58"
      },
      "execution_count": 99,
      "outputs": [
        {
          "output_type": "stream",
          "name": "stdout",
          "text": [
            "total nulos: 0\n"
          ]
        }
      ]
    },
    {
      "cell_type": "code",
      "source": [
        "#separamos las variables cuantitativas para trabajar outliers\n",
        "cuanti_2021 = df1_2021[[\"TC\",\"IMPORTE\",\"IVA\",\"RET ISR\",\"RET IVA\",\"TOTAL MX\",\"TOTAL SAT\"]]\n",
        "cuali_2021 = df1_2021[[\"FECHA\",\"FOLIO\",\"UUID\",\"RFC\",\"PROVEEDOR\",\"TIPO GASTO\",'DESCRIPCION','MP','TIPO','STATUS','POLIZA']]"
      ],
      "metadata": {
        "id": "WT0UcInCCC0v"
      },
      "execution_count": 100,
      "outputs": []
    },
    {
      "cell_type": "code",
      "source": [
        "#Diagrama de caja y bigote\n",
        "fig=plt.figure(figsize=(10,6))\n",
        "cuanti_2021.plot(kind=\"box\",vert=False)\n",
        "plt.title(\"Outliers del 2021\")\n",
        "plt.show()"
      ],
      "metadata": {
        "id": "qG5qN8tKCCyQ"
      },
      "execution_count": null,
      "outputs": []
    },
    {
      "cell_type": "code",
      "source": [
        "#Método Desviación Estandar\n",
        "y = cuanti_2021\n",
        "Limite_Superior= y.mean() + 3*y.std()\n",
        "Limite_Inferior= y.mean() - 3*y.std()\n",
        "print(\"Limite superior permitido\", Limite_Superior)\n",
        "print(\"Limite inferior permitido\", Limite_Inferior)"
      ],
      "metadata": {
        "id": "Yqxk2f1GCCwI"
      },
      "execution_count": null,
      "outputs": []
    },
    {
      "cell_type": "code",
      "source": [
        "#Obtenemos datos limpios del Dataframe\n",
        "#outliers2021= cuanti_2021[(y>Limite_Superior)|(y<Limite_Inferior)]\n",
        "\n",
        "cuanti2_21= cuanti_2021[(y<=Limite_Superior)&(y>=Limite_Inferior)]\n",
        "#outliers2021\n",
        "cuanti2_21"
      ],
      "metadata": {
        "id": "nKbRtUjwCCnS"
      },
      "execution_count": null,
      "outputs": []
    },
    {
      "cell_type": "code",
      "source": [
        "#Corroboramos valores nulos\n",
        "valores_nulos=cuanti2_21.isnull().sum()\n",
        "valores_nulos"
      ],
      "metadata": {
        "id": "W3DMm2EME8F1"
      },
      "execution_count": null,
      "outputs": []
    },
    {
      "cell_type": "code",
      "source": [
        "#Reemplazamos valores atípicos (nulos) del dataframe y comprobamos valores nulos\n",
        "cuanti3_21 =cuanti2_21.copy()\n",
        "\n",
        "cuanti3_21 = cuanti3_21.fillna(round(cuanti3_21.mean(),1))\n",
        "\n",
        "print(cuanti3_21.isnull().sum())"
      ],
      "metadata": {
        "id": "3IoFu7ilE85Q"
      },
      "execution_count": null,
      "outputs": []
    },
    {
      "cell_type": "code",
      "source": [
        "#CORROBORAMOS OUTLIERS DE NUEVO\n",
        "fig=plt.figure(figsize=(15,8))\n",
        "cuanti3_21.plot(kind='box', vert=False)\n",
        "plt.title(\"Outliers del 2020\")\n",
        "plt.show()\n",
        "#si cambia"
      ],
      "metadata": {
        "id": "ccDPMSmzE82g"
      },
      "execution_count": null,
      "outputs": []
    },
    {
      "cell_type": "code",
      "source": [
        "#unimos las columnas cuantitativas y cualitativas en uno solo\n",
        "datos2021_final = pd.concat([cuanti3_21, cuali_2021], axis=1)\n",
        "datos2021_final"
      ],
      "metadata": {
        "id": "9nA84IjeE8zo"
      },
      "execution_count": 111,
      "outputs": []
    },
    {
      "cell_type": "code",
      "source": [
        "#Convertir DataFrame a CSV\n",
        "datos2021_final.to_csv(\"Datos_limpios_2021.csv\")"
      ],
      "metadata": {
        "id": "slg9JkW3E8xL"
      },
      "execution_count": 112,
      "outputs": []
    },
    {
      "cell_type": "markdown",
      "source": [
        "##2022"
      ],
      "metadata": {
        "id": "XMxCjah7Gq9G"
      }
    },
    {
      "cell_type": "code",
      "source": [
        "DF_2022 = pd.read_excel(\"Gastos y costos 20-23.xlsx\", sheet_name=\"2022\", skiprows=3)\n",
        "pd.DataFrame(DF_2022).head(2)"
      ],
      "metadata": {
        "id": "xwU55gTgCDwJ"
      },
      "execution_count": null,
      "outputs": []
    },
    {
      "cell_type": "code",
      "source": [
        "#comprobamos valores nulos\n",
        "print(DF_2022.info())\n",
        "DF_2022.isnull().sum()"
      ],
      "metadata": {
        "id": "g4urdXHaBgz1"
      },
      "execution_count": null,
      "outputs": []
    },
    {
      "cell_type": "code",
      "source": [
        "# sustituimos los valores perdidos\n",
        "df1_2022 = DF_2022.copy()\n",
        "\n",
        "df1_2022['Folio'] = df1_2022['Folio'].fillna(\"Desconocido\")\n",
        "df1_2022['MP'] = df1_2022['MP'].fillna(\"Desconocido\")\n",
        "df1_2022['Poliza'] = df1_2022['Poliza'].fillna(\"Desconocido\")\n",
        "df1_2022[\"TC\"]=df1_2022[\"TC\"].fillna(1)\n",
        "df1_2022.drop(columns = [\"Otros\"], inplace=True) #se dedice eliminar la columna ya que no tiene ni una sola entrada, todos sus valores son nulos\n",
        "\n",
        "#COMPROBAMOS\n",
        "print(\"total nulos:\", df1_2022.isnull().sum().sum())"
      ],
      "metadata": {
        "colab": {
          "base_uri": "https://localhost:8080/"
        },
        "id": "M3-JkyWoHJzC",
        "outputId": "1084a06f-a43f-4d52-85eb-146d1fb593e6"
      },
      "execution_count": 126,
      "outputs": [
        {
          "output_type": "stream",
          "name": "stdout",
          "text": [
            "total nulos: 0\n"
          ]
        }
      ]
    },
    {
      "cell_type": "code",
      "source": [
        "#separamos las variables cuantitativas para trabajar outliers\n",
        "cuanti_2022 = df1_2022[[\"TC\",\"Importe\",\"IVA\",\"RET ISR\",\"RET IVA\",\"TOTAL SAT\",\"TOTAL MX\"]]\n",
        "cuali_2022 = df1_2022[[\"Fecha\",\"Folio\",\"UUID\",\"RFC\",\"Proveedor\",\"TIPO GASTO\",\"Descripción\",\"MP\",\"Tipo\",\"Status\",\"Poliza\"]]"
      ],
      "metadata": {
        "id": "mmOmC82zHJof"
      },
      "execution_count": 128,
      "outputs": []
    },
    {
      "cell_type": "code",
      "source": [
        "#Diagrama de caja y bigote\n",
        "fig=plt.figure(figsize=(10,6))\n",
        "cuanti_2022.plot(kind=\"box\",vert=False)\n",
        "plt.title(\"Outliers del 2022\")\n",
        "plt.show()"
      ],
      "metadata": {
        "id": "PAValrZGJ3Nd"
      },
      "execution_count": null,
      "outputs": []
    },
    {
      "cell_type": "code",
      "source": [
        "#Método Desviación Estandar\n",
        "y = cuanti_2022\n",
        "Limite_Superior= y.mean() + 3*y.std()\n",
        "Limite_Inferior= y.mean() - 3*y.std()\n",
        "print(\"Limite superior permitido\", Limite_Superior)\n",
        "print(\"Limite inferior permitido\", Limite_Inferior)"
      ],
      "metadata": {
        "id": "Iv6P4ThBKDY1"
      },
      "execution_count": null,
      "outputs": []
    },
    {
      "cell_type": "code",
      "source": [
        "#Obtenemos datos limpios del Dataframe\n",
        "#outliers2022= cuanti_2022[(y>Limite_Superior)|(y<Limite_Inferior)]\n",
        "cuanti2_22= cuanti_2022[(y<=Limite_Superior)&(y>=Limite_Inferior)]\n",
        "cuanti2_22"
      ],
      "metadata": {
        "id": "xfWrv88aKIuV"
      },
      "execution_count": null,
      "outputs": []
    },
    {
      "cell_type": "code",
      "source": [
        "#Corroboramos valores nulos\n",
        "valores_nulos=cuanti2_22.isnull().sum()\n",
        "valores_nulos"
      ],
      "metadata": {
        "id": "g-IPGWvoKbd2"
      },
      "execution_count": null,
      "outputs": []
    },
    {
      "cell_type": "code",
      "source": [
        "#Reemplazamos valores atípicos (nulos) del dataframe y comprobamos valores nulos\n",
        "cuanti3_22 =cuanti2_22.copy()\n",
        "\n",
        "cuanti3_22 = cuanti3_22.fillna(round(cuanti3_22.mean(),1))\n",
        "\n",
        "print(cuanti3_22.isnull().sum())"
      ],
      "metadata": {
        "id": "4gqjRzfVKjuh"
      },
      "execution_count": null,
      "outputs": []
    },
    {
      "cell_type": "code",
      "source": [
        "#CORROBORAMOS OUTLIERS DE NUEVO\n",
        "fig=plt.figure(figsize=(15,8))\n",
        "cuanti3_22.plot(kind='box', vert=False)\n",
        "plt.title(\"Outliers del 2020\")\n",
        "plt.show()"
      ],
      "metadata": {
        "id": "4-CTdWSNKub3"
      },
      "execution_count": null,
      "outputs": []
    },
    {
      "cell_type": "code",
      "source": [
        "#unimos las columnas cuantitativas y cualitativas en uno solo\n",
        "datos2022_final = pd.concat([cuanti3_22, cuali_2022], axis=1)\n",
        "datos2022_final.head()"
      ],
      "metadata": {
        "id": "jQYtA8QVK2me"
      },
      "execution_count": null,
      "outputs": []
    },
    {
      "cell_type": "code",
      "source": [
        "#Convertir DataFrame a CSV\n",
        "datos2022_final.to_csv(\"Datos_limpios_2022.csv\")"
      ],
      "metadata": {
        "id": "inHy4BUJLEmc"
      },
      "execution_count": 138,
      "outputs": []
    },
    {
      "cell_type": "markdown",
      "source": [
        "## 2023"
      ],
      "metadata": {
        "id": "u4oFRKadHKpz"
      }
    },
    {
      "cell_type": "code",
      "source": [
        "DF_2023 = pd.read_excel(\"Gastos y costos 20-23.xlsx\", sheet_name=\"2023\", skiprows=3)\n",
        "pd.DataFrame(DF_2023)"
      ],
      "metadata": {
        "id": "srWeIZBIBgws"
      },
      "execution_count": null,
      "outputs": []
    },
    {
      "cell_type": "code",
      "source": [
        "#comprobamos valores nulos\n",
        "print(DF_2023.info())\n",
        "DF_2023.isnull().sum()"
      ],
      "metadata": {
        "id": "lR-RMyg_LKBM"
      },
      "execution_count": null,
      "outputs": []
    },
    {
      "cell_type": "code",
      "source": [
        "# sustituimos los valores perdidos\n",
        "df1_2023 = DF_2023.copy()\n",
        "\n",
        "df1_2023['Folio'] = df1_2023['Folio'].fillna(\"Desconocido\")\n",
        "df1_2023['TIPO GASTO'] = df1_2023['TIPO GASTO'].fillna(\"Desconocido\")\n",
        "df1_2023['MP'] = df1_2023['MP'].fillna(\"Desconocido\")\n",
        "df1_2023['FP'] = df1_2023['FP'].fillna(df1_2023['FP'].median())\n",
        "df1_2023['Poliza'] = df1_2023['Poliza'].fillna(\"Desconocido\")\n",
        "df1_2023.drop(columns = [\"Otros\"], inplace=True) #se dedice eliminar la columna ya que no tiene ni una sola entrada, todos sus valores son nulos\n",
        "\n",
        "#COMPROBAMOS\n",
        "print(\"total nulos:\", df1_2023.isnull().sum().sum())"
      ],
      "metadata": {
        "colab": {
          "base_uri": "https://localhost:8080/"
        },
        "id": "GQ8-bKc_LJ8q",
        "outputId": "066533e0-1594-4df4-c328-b1bda4a7f07c"
      },
      "execution_count": 165,
      "outputs": [
        {
          "output_type": "stream",
          "name": "stdout",
          "text": [
            "total nulos: 0\n"
          ]
        }
      ]
    },
    {
      "cell_type": "code",
      "source": [
        "#separamos las variables cuantitativas para trabajar outliers\n",
        "cuanti_2023 = df1_2023[[\"FP\",\"TC\",\"Importe\",\"IVA\",\"RET ISR\",\"RET IVA\",\"TOTAL SAT\",\"TOTAL MX\"]]\n",
        "cuali_2023 = df1_2023[[\"Fecha\",\"Folio\",\"UUID\",\"RFC\",\"Proveedor\",\"TIPO GASTO\",\"Descripción\",\"MP\",\"Tipo\",\"Status\",\"Poliza\"]]"
      ],
      "metadata": {
        "id": "TnD8FR1yLJ5y"
      },
      "execution_count": 167,
      "outputs": []
    },
    {
      "cell_type": "code",
      "source": [
        "#Diagrama de caja y bigote\n",
        "fig=plt.figure(figsize=(10,6))\n",
        "cuanti_2023.plot(kind=\"box\",vert=False)\n",
        "plt.title(\"Outliers del 2022\")\n",
        "plt.show()"
      ],
      "metadata": {
        "id": "XKXmczgxLJ2e"
      },
      "execution_count": null,
      "outputs": []
    },
    {
      "cell_type": "code",
      "source": [
        "#Método aplicando Cuartiles. Encuentro cuartiles 0.25 y 0.75\n",
        "y = cuanti_2023\n",
        "\n",
        "percentile25 = y.quantile(0.25) #Q1\n",
        "percentile75 = y.quantile(0.75) #Q3\n",
        "iqr = percentile75 - percentile25\n",
        "\n",
        "Limite_Superior_iqr = percentile75 + 1.5*iqr\n",
        "Limite_Inferior_iqr = percentile25 - 1.5*iqr\n",
        "print(\"Limire superior permitido\", Limite_Superior_iqr)\n",
        "print(\"Limire inferior permitido\", Limite_Inferior_iqr)"
      ],
      "metadata": {
        "id": "o0t5WkGiLJ0Q"
      },
      "execution_count": null,
      "outputs": []
    },
    {
      "cell_type": "code",
      "source": [
        "#Obtenemos datos limpios del Dataframe\n",
        "#outliers2023= cuanti_2023[(y>Limite_Superior_iqr)|(y<Limite_Inferior_iqr)]\n",
        "cuanti2_23= cuanti_2023[(y<=Limite_Superior_iqr)&(y>=Limite_Inferior_iqr)]\n",
        "cuanti2_23"
      ],
      "metadata": {
        "id": "dH9U3U9kLJuL"
      },
      "execution_count": null,
      "outputs": []
    },
    {
      "cell_type": "code",
      "source": [
        "#Corroboramos valores nulos\n",
        "valores_nulos=cuanti2_23.isnull().sum()\n",
        "valores_nulos"
      ],
      "metadata": {
        "colab": {
          "base_uri": "https://localhost:8080/"
        },
        "id": "v4aSVrFJLJkA",
        "outputId": "95aced57-df31-49eb-ae0d-ef98e2fa27bb"
      },
      "execution_count": 171,
      "outputs": [
        {
          "output_type": "execute_result",
          "data": {
            "text/plain": [
              "FP            0\n",
              "TC            2\n",
              "Importe      50\n",
              "IVA          49\n",
              "RET ISR       9\n",
              "RET IVA       9\n",
              "TOTAL SAT    46\n",
              "TOTAL MX     46\n",
              "dtype: int64"
            ]
          },
          "metadata": {},
          "execution_count": 171
        }
      ]
    },
    {
      "cell_type": "code",
      "source": [
        "#Reemplazamos valores atípicos (nulos) del dataframe y comprobamos valores nulos\n",
        "cuanti3_23 =cuanti2_23.copy()\n",
        "cuanti3_23 = cuanti3_23.fillna(round(cuanti3_23.mean(),1))\n",
        "\n",
        "print(cuanti3_23.isnull().sum())"
      ],
      "metadata": {
        "colab": {
          "base_uri": "https://localhost:8080/"
        },
        "id": "R7qc22qrLJfv",
        "outputId": "b958b906-4bd2-4bec-dfc4-f9aba87f7c94"
      },
      "execution_count": 172,
      "outputs": [
        {
          "output_type": "stream",
          "name": "stdout",
          "text": [
            "FP           0\n",
            "TC           0\n",
            "Importe      0\n",
            "IVA          0\n",
            "RET ISR      0\n",
            "RET IVA      0\n",
            "TOTAL SAT    0\n",
            "TOTAL MX     0\n",
            "dtype: int64\n"
          ]
        }
      ]
    },
    {
      "cell_type": "code",
      "source": [
        "#CORROBORAMOS OUTLIERS DE NUEVO\n",
        "fig=plt.figure(figsize=(15,8))\n",
        "cuanti3_23.plot(kind='box', vert=False)\n",
        "plt.title(\"Outliers del 2020\")\n",
        "plt.show()"
      ],
      "metadata": {
        "id": "skffxemdPLcR"
      },
      "execution_count": null,
      "outputs": []
    },
    {
      "cell_type": "code",
      "source": [
        "#unimos las columnas cuantitativas y cualitativas en uno solo\n",
        "datos2023_final = pd.concat([cuanti3_23, cuali_2023], axis=1)\n",
        "datos2023_final.head()"
      ],
      "metadata": {
        "id": "Rvt6OYSTPS6f"
      },
      "execution_count": null,
      "outputs": []
    },
    {
      "cell_type": "code",
      "source": [
        "#Convertir DataFrame a CSV\n",
        "datos2023_final.to_csv(\"Datos_limpios_2023.csv\")"
      ],
      "metadata": {
        "id": "zTg-CzXyPf2w"
      },
      "execution_count": 177,
      "outputs": []
    },
    {
      "cell_type": "code",
      "source": [
        "#descargar archivo filtrado en csv\n",
        "from google.colab import files\n",
        "\n",
        "\n",
        "files.download(\"Datos_limpios_2020.csv\")\n",
        "files.download(\"Datos_limpios_2021.csv\")\n",
        "files.download(\"Datos_limpios_2022.csv\")\n",
        "files.download(\"Datos_limpios_2023.csv\")"
      ],
      "metadata": {
        "colab": {
          "base_uri": "https://localhost:8080/",
          "height": 17
        },
        "id": "_3gLBsoIBgsu",
        "outputId": "ba7c6451-eb38-4753-f2c1-47e616b0a29c"
      },
      "execution_count": 179,
      "outputs": [
        {
          "output_type": "display_data",
          "data": {
            "text/plain": [
              "<IPython.core.display.Javascript object>"
            ],
            "application/javascript": [
              "\n",
              "    async function download(id, filename, size) {\n",
              "      if (!google.colab.kernel.accessAllowed) {\n",
              "        return;\n",
              "      }\n",
              "      const div = document.createElement('div');\n",
              "      const label = document.createElement('label');\n",
              "      label.textContent = `Downloading \"${filename}\": `;\n",
              "      div.appendChild(label);\n",
              "      const progress = document.createElement('progress');\n",
              "      progress.max = size;\n",
              "      div.appendChild(progress);\n",
              "      document.body.appendChild(div);\n",
              "\n",
              "      const buffers = [];\n",
              "      let downloaded = 0;\n",
              "\n",
              "      const channel = await google.colab.kernel.comms.open(id);\n",
              "      // Send a message to notify the kernel that we're ready.\n",
              "      channel.send({})\n",
              "\n",
              "      for await (const message of channel.messages) {\n",
              "        // Send a message to notify the kernel that we're ready.\n",
              "        channel.send({})\n",
              "        if (message.buffers) {\n",
              "          for (const buffer of message.buffers) {\n",
              "            buffers.push(buffer);\n",
              "            downloaded += buffer.byteLength;\n",
              "            progress.value = downloaded;\n",
              "          }\n",
              "        }\n",
              "      }\n",
              "      const blob = new Blob(buffers, {type: 'application/binary'});\n",
              "      const a = document.createElement('a');\n",
              "      a.href = window.URL.createObjectURL(blob);\n",
              "      a.download = filename;\n",
              "      div.appendChild(a);\n",
              "      a.click();\n",
              "      div.remove();\n",
              "    }\n",
              "  "
            ]
          },
          "metadata": {}
        },
        {
          "output_type": "display_data",
          "data": {
            "text/plain": [
              "<IPython.core.display.Javascript object>"
            ],
            "application/javascript": [
              "download(\"download_e979295a-5583-4d11-8476-18862c7a9c17\", \"Datos_limpios_2020.csv\", 757715)"
            ]
          },
          "metadata": {}
        },
        {
          "output_type": "display_data",
          "data": {
            "text/plain": [
              "<IPython.core.display.Javascript object>"
            ],
            "application/javascript": [
              "\n",
              "    async function download(id, filename, size) {\n",
              "      if (!google.colab.kernel.accessAllowed) {\n",
              "        return;\n",
              "      }\n",
              "      const div = document.createElement('div');\n",
              "      const label = document.createElement('label');\n",
              "      label.textContent = `Downloading \"${filename}\": `;\n",
              "      div.appendChild(label);\n",
              "      const progress = document.createElement('progress');\n",
              "      progress.max = size;\n",
              "      div.appendChild(progress);\n",
              "      document.body.appendChild(div);\n",
              "\n",
              "      const buffers = [];\n",
              "      let downloaded = 0;\n",
              "\n",
              "      const channel = await google.colab.kernel.comms.open(id);\n",
              "      // Send a message to notify the kernel that we're ready.\n",
              "      channel.send({})\n",
              "\n",
              "      for await (const message of channel.messages) {\n",
              "        // Send a message to notify the kernel that we're ready.\n",
              "        channel.send({})\n",
              "        if (message.buffers) {\n",
              "          for (const buffer of message.buffers) {\n",
              "            buffers.push(buffer);\n",
              "            downloaded += buffer.byteLength;\n",
              "            progress.value = downloaded;\n",
              "          }\n",
              "        }\n",
              "      }\n",
              "      const blob = new Blob(buffers, {type: 'application/binary'});\n",
              "      const a = document.createElement('a');\n",
              "      a.href = window.URL.createObjectURL(blob);\n",
              "      a.download = filename;\n",
              "      div.appendChild(a);\n",
              "      a.click();\n",
              "      div.remove();\n",
              "    }\n",
              "  "
            ]
          },
          "metadata": {}
        },
        {
          "output_type": "display_data",
          "data": {
            "text/plain": [
              "<IPython.core.display.Javascript object>"
            ],
            "application/javascript": [
              "download(\"download_234ca005-b73b-4a2a-b573-833fd1623d6e\", \"Datos_limpios_2021.csv\", 666916)"
            ]
          },
          "metadata": {}
        },
        {
          "output_type": "display_data",
          "data": {
            "text/plain": [
              "<IPython.core.display.Javascript object>"
            ],
            "application/javascript": [
              "\n",
              "    async function download(id, filename, size) {\n",
              "      if (!google.colab.kernel.accessAllowed) {\n",
              "        return;\n",
              "      }\n",
              "      const div = document.createElement('div');\n",
              "      const label = document.createElement('label');\n",
              "      label.textContent = `Downloading \"${filename}\": `;\n",
              "      div.appendChild(label);\n",
              "      const progress = document.createElement('progress');\n",
              "      progress.max = size;\n",
              "      div.appendChild(progress);\n",
              "      document.body.appendChild(div);\n",
              "\n",
              "      const buffers = [];\n",
              "      let downloaded = 0;\n",
              "\n",
              "      const channel = await google.colab.kernel.comms.open(id);\n",
              "      // Send a message to notify the kernel that we're ready.\n",
              "      channel.send({})\n",
              "\n",
              "      for await (const message of channel.messages) {\n",
              "        // Send a message to notify the kernel that we're ready.\n",
              "        channel.send({})\n",
              "        if (message.buffers) {\n",
              "          for (const buffer of message.buffers) {\n",
              "            buffers.push(buffer);\n",
              "            downloaded += buffer.byteLength;\n",
              "            progress.value = downloaded;\n",
              "          }\n",
              "        }\n",
              "      }\n",
              "      const blob = new Blob(buffers, {type: 'application/binary'});\n",
              "      const a = document.createElement('a');\n",
              "      a.href = window.URL.createObjectURL(blob);\n",
              "      a.download = filename;\n",
              "      div.appendChild(a);\n",
              "      a.click();\n",
              "      div.remove();\n",
              "    }\n",
              "  "
            ]
          },
          "metadata": {}
        },
        {
          "output_type": "display_data",
          "data": {
            "text/plain": [
              "<IPython.core.display.Javascript object>"
            ],
            "application/javascript": [
              "download(\"download_b5e37140-1352-43b6-8d33-849f103ad9d7\", \"Datos_limpios_2022.csv\", 563956)"
            ]
          },
          "metadata": {}
        },
        {
          "output_type": "display_data",
          "data": {
            "text/plain": [
              "<IPython.core.display.Javascript object>"
            ],
            "application/javascript": [
              "\n",
              "    async function download(id, filename, size) {\n",
              "      if (!google.colab.kernel.accessAllowed) {\n",
              "        return;\n",
              "      }\n",
              "      const div = document.createElement('div');\n",
              "      const label = document.createElement('label');\n",
              "      label.textContent = `Downloading \"${filename}\": `;\n",
              "      div.appendChild(label);\n",
              "      const progress = document.createElement('progress');\n",
              "      progress.max = size;\n",
              "      div.appendChild(progress);\n",
              "      document.body.appendChild(div);\n",
              "\n",
              "      const buffers = [];\n",
              "      let downloaded = 0;\n",
              "\n",
              "      const channel = await google.colab.kernel.comms.open(id);\n",
              "      // Send a message to notify the kernel that we're ready.\n",
              "      channel.send({})\n",
              "\n",
              "      for await (const message of channel.messages) {\n",
              "        // Send a message to notify the kernel that we're ready.\n",
              "        channel.send({})\n",
              "        if (message.buffers) {\n",
              "          for (const buffer of message.buffers) {\n",
              "            buffers.push(buffer);\n",
              "            downloaded += buffer.byteLength;\n",
              "            progress.value = downloaded;\n",
              "          }\n",
              "        }\n",
              "      }\n",
              "      const blob = new Blob(buffers, {type: 'application/binary'});\n",
              "      const a = document.createElement('a');\n",
              "      a.href = window.URL.createObjectURL(blob);\n",
              "      a.download = filename;\n",
              "      div.appendChild(a);\n",
              "      a.click();\n",
              "      div.remove();\n",
              "    }\n",
              "  "
            ]
          },
          "metadata": {}
        },
        {
          "output_type": "display_data",
          "data": {
            "text/plain": [
              "<IPython.core.display.Javascript object>"
            ],
            "application/javascript": [
              "download(\"download_a249d0f4-7610-4fc2-a873-879605b48a63\", \"Datos_limpios_2023.csv\", 87675)"
            ]
          },
          "metadata": {}
        }
      ]
    }
  ]
}